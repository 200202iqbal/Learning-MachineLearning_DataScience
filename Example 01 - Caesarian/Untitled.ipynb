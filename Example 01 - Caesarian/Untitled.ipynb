{
 "cells": [
  {
   "cell_type": "code",
   "execution_count": 3,
   "metadata": {},
   "outputs": [],
   "source": [
    "import pandas as pd"
   ]
  },
  {
   "cell_type": "code",
   "execution_count": 10,
   "metadata": {},
   "outputs": [
    {
     "name": "stdout",
     "output_type": "stream",
     "text": [
      "<bound method NDFrame.describe of                                                                                                                                      @relation caesarian\n",
      "@attribute 'Age' { 22              26   28  27  32.0 36.0 33.0 23.0 20.0 29.0 25.0 37.0 24.0 18.0 30.0 40.0 31.0 19.0 21.0 35.0 17.0               38 } \n",
      "@attribute 'Delivery number' { 1   2    3   4 } NaN  NaN  NaN  NaN  NaN  NaN  NaN  NaN  NaN  NaN  NaN  NaN  NaN  NaN  NaN  NaN  NaN                  NaN\n",
      "@attribute 'Delivery time' { 0     1    2 } NaN NaN  NaN  NaN  NaN  NaN  NaN  NaN  NaN  NaN  NaN  NaN  NaN  NaN  NaN  NaN  NaN  NaN                  NaN\n",
      "@attribute 'Blood of Pressure' { 2 1    0 } NaN NaN  NaN  NaN  NaN  NaN  NaN  NaN  NaN  NaN  NaN  NaN  NaN  NaN  NaN  NaN  NaN  NaN                  NaN\n",
      "@attribute 'Heart Problem' { 1     0 }  NaN NaN NaN  NaN  NaN  NaN  NaN  NaN  NaN  NaN  NaN  NaN  NaN  NaN  NaN  NaN  NaN  NaN  NaN                  NaN\n",
      "...                                                                                                                                                  ...\n",
      "27                                 2    1   1   0.0  0.0  NaN  NaN  NaN  NaN  NaN  NaN  NaN  NaN  NaN  NaN  NaN  NaN  NaN  NaN  NaN                  NaN\n",
      "33                                 4    0   1   0.0  1.0  NaN  NaN  NaN  NaN  NaN  NaN  NaN  NaN  NaN  NaN  NaN  NaN  NaN  NaN  NaN                  NaN\n",
      "29                                 2    1   2   0.0  1.0  NaN  NaN  NaN  NaN  NaN  NaN  NaN  NaN  NaN  NaN  NaN  NaN  NaN  NaN  NaN                  NaN\n",
      "25                                 1    2   0   0.0  1.0  NaN  NaN  NaN  NaN  NaN  NaN  NaN  NaN  NaN  NaN  NaN  NaN  NaN  NaN  NaN                  NaN\n",
      "24                                 2    2   1   0.0  0.0  NaN  NaN  NaN  NaN  NaN  NaN  NaN  NaN  NaN  NaN  NaN  NaN  NaN  NaN  NaN                  NaN\n",
      "\n",
      "[87 rows x 1 columns]>\n"
     ]
    }
   ],
   "source": [
    "data = pd.read_csv(\"caesarian.csv.arff\")\n",
    "print(data.describe)"
   ]
  }
 ],
 "metadata": {
  "kernelspec": {
   "display_name": "Python 3",
   "language": "python",
   "name": "python3"
  },
  "language_info": {
   "codemirror_mode": {
    "name": "ipython",
    "version": 3
   },
   "file_extension": ".py",
   "mimetype": "text/x-python",
   "name": "python",
   "nbconvert_exporter": "python",
   "pygments_lexer": "ipython3",
   "version": "3.8.5"
  }
 },
 "nbformat": 4,
 "nbformat_minor": 4
}
